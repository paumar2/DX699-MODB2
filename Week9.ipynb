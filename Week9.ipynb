{
 "cells": [
  {
   "cell_type": "markdown",
   "id": "244f2df0-52ee-411a-b722-3a9e4a325a6f",
   "metadata": {},
   "source": [
    "# Week 9 - Multivariate Analysis, part 2"
   ]
  },
  {
   "cell_type": "markdown",
   "id": "90b37fb7-28ce-4775-b21e-1476e954c41e",
   "metadata": {},
   "source": [
    "# 1. Lesson - no lesson this week"
   ]
  },
  {
   "cell_type": "markdown",
   "id": "4b44c525-3825-4049-bc2f-38e2816ab49f",
   "metadata": {},
   "source": [
    "# 2. Weekly graph question"
   ]
  },
  {
   "cell_type": "markdown",
   "id": "3f08b981-a45b-4e79-8361-455b5d6fb575",
   "metadata": {},
   "source": [
    "The graph below plots the first two principal component scores in a scatter plot.  What can be said about the three outliers in the upper left corner of the graph?  Is their first principal component score high or low?  What about their second principal component score?  What does that mean about their values in series_1, series_2, and series_3?  It seems to me that you can say something about series_3 (what can you say?) but you may have a harder time saying something about series_1 and series_2, and an almost impossible time saying anything about the relative values of series_1 and series_2.  Why is that?  How are series_1 and series_2 related, according to how they were created?  If you like, try drawing a pairplot for all three series and see what you get.\n",
    "\n",
    "Overall, what are the advantages and disadvantages of the graph below?  Does it show anything interesting?"
   ]
  },
  {
   "cell_type": "code",
   "execution_count": 1,
   "id": "1df6bbdd-c068-4f1a-8063-ed657b2f8bfc",
   "metadata": {},
   "outputs": [
    {
     "name": "stdout",
     "output_type": "stream",
     "text": [
      "[0.79916477 0.18990532 0.01092991]\n",
      "[[ 0.26541493  0.30096233  0.91595665]\n",
      " [ 0.60337553  0.6891417  -0.40127506]\n",
      " [ 0.75199261 -0.65917023 -0.00131519]]\n"
     ]
    },
    {
     "data": {
      "text/plain": [
       "Text(0, 0.5, 'Second Principal Component Score')"
      ]
     },
     "execution_count": 1,
     "metadata": {},
     "output_type": "execute_result"
    },
    {
     "data": {
      "image/png": "[encoded data removed]",
      "text/plain": [
       "<Figure size 640x480 with 1 Axes>"
      ]
     },
     "metadata": {},
     "output_type": "display_data"
    }
   ],
   "source": [
    "import numpy as np\n",
    "import pandas as pd\n",
    "from sklearn import decomposition\n",
    "import matplotlib.pyplot as plt\n",
    "\n",
    "np.random.seed(0)\n",
    "num_points = 100\n",
    "series_1 = np.random.normal(loc = 2, scale = 0.5, size = num_points)\n",
    "series_2 = series_1 * (1 + np.random.normal(loc = 0, scale = 0.1, size = num_points))\n",
    "series_3 = series_1 * (1 + np.random.normal(loc = 0, scale = 0.5, size = num_points))\n",
    "df = pd.DataFrame({'ser1': series_1, 'ser2': series_2, 'ser3': series_3})\n",
    "df = df - df.mean() # set mean to zero, so we don't have to subtract mean from the principal component scores\n",
    "\n",
    "pca3 = decomposition.PCA(n_components = 3)\n",
    "pca3.fit(df)\n",
    "print(pca3.explained_variance_ratio_)\n",
    "print(pca3.components_)\n",
    "\n",
    "first_principal_component_score = df.dot(pca3.components_[0])\n",
    "second_principal_component_score = df.dot(pca3.components_[1])\n",
    "plt.scatter(first_principal_component_score, second_principal_component_score)\n",
    "plt.xlabel(\"First Principal Component Score\")\n",
    "plt.ylabel(\"Second Principal Component Score\")"
   ]
  },
  {
   "cell_type": "markdown",
   "id": "a2bce064-8ea6-4464-9332-afc6a0ed11f1",
   "metadata": {},
   "source": [
    "# 3. Working on your datasets\n",
    "\n",
    "This week, you will do the same types of exercises as last week, but you should use your chosen datasets that someone in your class found last semester. (They likely will not be the particular datasets that you found yourself.)\n",
    "\n",
    "Here are some types of analysis you can do:\n",
    "Draw heatmaps.\n",
    "\n",
    "Draw bubble plots.\n",
    "\n",
    "Perform Principal Component Analysis to find out the directions in which the data varies.  Can you represent the data using only its projection onto its first principal component, using the methods described in Week 8?  How much of the variance would this capture?\n",
    "\n",
    "Try performing linear regression analysis using different sets of features.  Which features seem most likely to be useful to predict other features?\n",
    "\n",
    "Conclusions:\n",
    "Explain what conclusions you would draw from this analysis: are the data what you expect? Are the data likely to be usable? If the data are not useable, find some new data!\n",
    "\n",
    "Do you see any outliers? (Data points that are far from the rest of the data).\n",
    "\n",
    "Does the Principal Component Analysis suggest a way to represent the data using fewer dimensions than usual - using its first one or two principal component scores, perhaps?\n",
    "\n",
    "Try using your correlation information from previous weeks to help choose features for linear regression."
   ]
  },
  {
   "cell_type": "markdown",
   "id": "55d17c55",
   "metadata": {},
   "source": [
    "#### Dataset 1: Marketing Campaign Dataset\n",
    "##### Heatmaps:"
   ]
  },
  {
   "cell_type": "code",
   "execution_count": null,
   "id": "d4d0f86e",
   "metadata": {},
   "outputs": [
    {
     "data": {
      "text/html": [
       "<div>\n",
       "<style scoped>\n",
       "    .dataframe tbody tr th:only-of-type {\n",
       "        vertical-align: middle;\n",
       "    }\n",
       "\n",
       "    .dataframe tbody tr th {\n",
       "        vertical-align: top;\n",
       "    }\n",
       "\n",
       "    .dataframe thead th {\n",
       "        text-align: right;\n",
       "    }\n",
       "</style>\n",
       "<table border=\"1\" class=\"dataframe\">\n",
       "  <thead>\n",
       "    <tr style=\"text-align: right;\">\n",
       "      <th></th>\n",
       "      <th>ID</th>\n",
       "      <th>Year_Birth</th>\n",
       "      <th>Education</th>\n",
       "      <th>Marital_Status</th>\n",
       "      <th>Income</th>\n",
       "      <th>Kidhome</th>\n",
       "      <th>Teenhome</th>\n",
       "      <th>Dt_Customer</th>\n",
       "      <th>Recency</th>\n",
       "      <th>MntWines</th>\n",
       "      <th>...</th>\n",
       "      <th>NumCatalogPurchases</th>\n",
       "      <th>NumStorePurchases</th>\n",
       "      <th>NumWebVisitsMonth</th>\n",
       "      <th>AcceptedCmp3</th>\n",
       "      <th>AcceptedCmp4</th>\n",
       "      <th>AcceptedCmp5</th>\n",
       "      <th>AcceptedCmp1</th>\n",
       "      <th>AcceptedCmp2</th>\n",
       "      <th>Complain</th>\n",
       "      <th>Response</th>\n",
       "    </tr>\n",
       "  </thead>\n",
       "  <tbody>\n",
       "    <tr>\n",
       "      <th>0</th>\n",
       "      <td>5524</td>\n",
       "      <td>1957</td>\n",
       "      <td>Graduation</td>\n",
       "      <td>Single</td>\n",
       "      <td>58138.0</td>\n",
       "      <td>0</td>\n",
       "      <td>0</td>\n",
       "      <td>2012-09-04</td>\n",
       "      <td>58</td>\n",
       "      <td>635</td>\n",
       "      <td>...</td>\n",
       "      <td>10</td>\n",
       "      <td>4</td>\n",
       "      <td>7</td>\n",
       "      <td>0</td>\n",
       "      <td>0</td>\n",
       "      <td>0</td>\n",
       "      <td>0</td>\n",
       "      <td>0</td>\n",
       "      <td>0</td>\n",
       "      <td>1</td>\n",
       "    </tr>\n",
       "    <tr>\n",
       "      <th>1</th>\n",
       "      <td>2174</td>\n",
       "      <td>1954</td>\n",
       "      <td>Graduation</td>\n",
       "      <td>Single</td>\n",
       "      <td>46344.0</td>\n",
       "      <td>1</td>\n",
       "      <td>1</td>\n",
       "      <td>2014-03-08</td>\n",
       "      <td>38</td>\n",
       "      <td>11</td>\n",
       "      <td>...</td>\n",
       "      <td>1</td>\n",
       "      <td>2</td>\n",
       "      <td>5</td>\n",
       "      <td>0</td>\n",
       "      <td>0</td>\n",
       "      <td>0</td>\n",
       "      <td>0</td>\n",
       "      <td>0</td>\n",
       "      <td>0</td>\n",
       "      <td>0</td>\n",
       "    </tr>\n",
       "    <tr>\n",
       "      <th>2</th>\n",
       "      <td>4141</td>\n",
       "      <td>1965</td>\n",
       "      <td>Graduation</td>\n",
       "      <td>Together</td>\n",
       "      <td>71613.0</td>\n",
       "      <td>0</td>\n",
       "      <td>0</td>\n",
       "      <td>2013-08-21</td>\n",
       "      <td>26</td>\n",
       "      <td>426</td>\n",
       "      <td>...</td>\n",
       "      <td>2</td>\n",
       "      <td>10</td>\n",
       "      <td>4</td>\n",
       "      <td>0</td>\n",
       "      <td>0</td>\n",
       "      <td>0</td>\n",
       "      <td>0</td>\n",
       "      <td>0</td>\n",
       "      <td>0</td>\n",
       "      <td>0</td>\n",
       "    </tr>\n",
       "    <tr>\n",
       "      <th>3</th>\n",
       "      <td>6182</td>\n",
       "      <td>1984</td>\n",
       "      <td>Graduation</td>\n",
       "      <td>Together</td>\n",
       "      <td>26646.0</td>\n",
       "      <td>1</td>\n",
       "      <td>0</td>\n",
       "      <td>2014-02-10</td>\n",
       "      <td>26</td>\n",
       "      <td>11</td>\n",
       "      <td>...</td>\n",
       "      <td>0</td>\n",
       "      <td>4</td>\n",
       "      <td>6</td>\n",
       "      <td>0</td>\n",
       "      <td>0</td>\n",
       "      <td>0</td>\n",
       "      <td>0</td>\n",
       "      <td>0</td>\n",
       "      <td>0</td>\n",
       "      <td>0</td>\n",
       "    </tr>\n",
       "    <tr>\n",
       "      <th>4</th>\n",
       "      <td>5324</td>\n",
       "      <td>1981</td>\n",
       "      <td>PhD</td>\n",
       "      <td>Married</td>\n",
       "      <td>58293.0</td>\n",
       "      <td>1</td>\n",
       "      <td>0</td>\n",
       "      <td>2014-01-19</td>\n",
       "      <td>94</td>\n",
       "      <td>173</td>\n",
       "      <td>...</td>\n",
       "      <td>3</td>\n",
       "      <td>6</td>\n",
       "      <td>5</td>\n",
       "      <td>0</td>\n",
       "      <td>0</td>\n",
       "      <td>0</td>\n",
       "      <td>0</td>\n",
       "      <td>0</td>\n",
       "      <td>0</td>\n",
       "      <td>0</td>\n",
       "    </tr>\n",
       "    <tr>\n",
       "      <th>5</th>\n",
       "      <td>7446</td>\n",
       "      <td>1967</td>\n",
       "      <td>Master</td>\n",
       "      <td>Together</td>\n",
       "      <td>62513.0</td>\n",
       "      <td>0</td>\n",
       "      <td>1</td>\n",
       "      <td>2013-09-09</td>\n",
       "      <td>16</td>\n",
       "      <td>520</td>\n",
       "      <td>...</td>\n",
       "      <td>4</td>\n",
       "      <td>10</td>\n",
       "      <td>6</td>\n",
       "      <td>0</td>\n",
       "      <td>0</td>\n",
       "      <td>0</td>\n",
       "      <td>0</td>\n",
       "      <td>0</td>\n",
       "      <td>0</td>\n",
       "      <td>0</td>\n",
       "    </tr>\n",
       "    <tr>\n",
       "      <th>6</th>\n",
       "      <td>965</td>\n",
       "      <td>1971</td>\n",
       "      <td>Graduation</td>\n",
       "      <td>Divorced</td>\n",
       "      <td>55635.0</td>\n",
       "      <td>0</td>\n",
       "      <td>1</td>\n",
       "      <td>2012-11-13</td>\n",
       "      <td>34</td>\n",
       "      <td>235</td>\n",
       "      <td>...</td>\n",
       "      <td>3</td>\n",
       "      <td>7</td>\n",
       "      <td>6</td>\n",
       "      <td>0</td>\n",
       "      <td>0</td>\n",
       "      <td>0</td>\n",
       "      <td>0</td>\n",
       "      <td>0</td>\n",
       "      <td>0</td>\n",
       "      <td>0</td>\n",
       "    </tr>\n",
       "    <tr>\n",
       "      <th>7</th>\n",
       "      <td>6177</td>\n",
       "      <td>1985</td>\n",
       "      <td>PhD</td>\n",
       "      <td>Married</td>\n",
       "      <td>33454.0</td>\n",
       "      <td>1</td>\n",
       "      <td>0</td>\n",
       "      <td>2013-05-08</td>\n",
       "      <td>32</td>\n",
       "      <td>76</td>\n",
       "      <td>...</td>\n",
       "      <td>0</td>\n",
       "      <td>4</td>\n",
       "      <td>8</td>\n",
       "      <td>0</td>\n",
       "      <td>0</td>\n",
       "      <td>0</td>\n",
       "      <td>0</td>\n",
       "      <td>0</td>\n",
       "      <td>0</td>\n",
       "      <td>0</td>\n",
       "    </tr>\n",
       "    <tr>\n",
       "      <th>8</th>\n",
       "      <td>4855</td>\n",
       "      <td>1974</td>\n",
       "      <td>PhD</td>\n",
       "      <td>Together</td>\n",
       "      <td>30351.0</td>\n",
       "      <td>1</td>\n",
       "      <td>0</td>\n",
       "      <td>2013-06-06</td>\n",
       "      <td>19</td>\n",
       "      <td>14</td>\n",
       "      <td>...</td>\n",
       "      <td>0</td>\n",
       "      <td>2</td>\n",
       "      <td>9</td>\n",
       "      <td>0</td>\n",
       "      <td>0</td>\n",
       "      <td>0</td>\n",
       "      <td>0</td>\n",
       "      <td>0</td>\n",
       "      <td>0</td>\n",
       "      <td>1</td>\n",
       "    </tr>\n",
       "    <tr>\n",
       "      <th>9</th>\n",
       "      <td>5899</td>\n",
       "      <td>1950</td>\n",
       "      <td>PhD</td>\n",
       "      <td>Together</td>\n",
       "      <td>5648.0</td>\n",
       "      <td>1</td>\n",
       "      <td>1</td>\n",
       "      <td>2014-03-13</td>\n",
       "      <td>68</td>\n",
       "      <td>28</td>\n",
       "      <td>...</td>\n",
       "      <td>0</td>\n",
       "      <td>0</td>\n",
       "      <td>20</td>\n",
       "      <td>1</td>\n",
       "      <td>0</td>\n",
       "      <td>0</td>\n",
       "      <td>0</td>\n",
       "      <td>0</td>\n",
       "      <td>0</td>\n",
       "      <td>0</td>\n",
       "    </tr>\n",
       "  </tbody>\n",
       "</table>\n",
       "<p>10 rows × 27 columns</p>\n",
       "</div>"
      ],
      "text/plain": [
       "     ID  Year_Birth   Education Marital_Status   Income  Kidhome  Teenhome  \\\n",
       "0  5524        1957  Graduation         Single  58138.0        0         0   \n",
       "1  2174        1954  Graduation         Single  46344.0        1         1   \n",
       "2  4141        1965  Graduation       Together  71613.0        0         0   \n",
       "3  6182        1984  Graduation       Together  26646.0        1         0   \n",
       "4  5324        1981         PhD        Married  58293.0        1         0   \n",
       "5  7446        1967      Master       Together  62513.0        0         1   \n",
       "6   965        1971  Graduation       Divorced  55635.0        0         1   \n",
       "7  6177        1985         PhD        Married  33454.0        1         0   \n",
       "8  4855        1974         PhD       Together  30351.0        1         0   \n",
       "9  5899        1950         PhD       Together   5648.0        1         1   \n",
       "\n",
       "  Dt_Customer  Recency  MntWines  ...  NumCatalogPurchases  NumStorePurchases  \\\n",
       "0  2012-09-04       58       635  ...                   10                  4   \n",
       "1  2014-03-08       38        11  ...                    1                  2   \n",
       "2  2013-08-21       26       426  ...                    2                 10   \n",
       "3  2014-02-10       26        11  ...                    0                  4   \n",
       "4  2014-01-19       94       173  ...                    3                  6   \n",
       "5  2013-09-09       16       520  ...                    4                 10   \n",
       "6  2012-11-13       34       235  ...                    3                  7   \n",
       "7  2013-05-08       32        76  ...                    0                  4   \n",
       "8  2013-06-06       19        14  ...                    0                  2   \n",
       "9  2014-03-13       68        28  ...                    0                  0   \n",
       "\n",
       "   NumWebVisitsMonth  AcceptedCmp3  AcceptedCmp4  AcceptedCmp5  AcceptedCmp1  \\\n",
       "0                  7             0             0             0             0   \n",
       "1                  5             0             0             0             0   \n",
       "2                  4             0             0             0             0   \n",
       "3                  6             0             0             0             0   \n",
       "4                  5             0             0             0             0   \n",
       "5                  6             0             0             0             0   \n",
       "6                  6             0             0             0             0   \n",
       "7                  8             0             0             0             0   \n",
       "8                  9             0             0             0             0   \n",
       "9                 20             1             0             0             0   \n",
       "\n",
       "   AcceptedCmp2  Complain  Response  \n",
       "0             0         0         1  \n",
       "1             0         0         0  \n",
       "2             0         0         0  \n",
       "3             0         0         0  \n",
       "4             0         0         0  \n",
       "5             0         0         0  \n",
       "6             0         0         0  \n",
       "7             0         0         0  \n",
       "8             0         0         1  \n",
       "9             0         0         0  \n",
       "\n",
       "[10 rows x 27 columns]"
      ]
     },
     "execution_count": 2,
     "metadata": {},
     "output_type": "execute_result"
    }
   ],
   "source": [
    "#load dataset\n",
    "marketing_campaign = pd.read_csv(\"marketing_campaign.csv\", sep=';')\n",
    "marketing_campaign.dropna(inplace=True)\n",
    "marketing_campaign = marketing_campaign.drop(columns=['Z_CostContact', 'Z_Revenue']) \n",
    "marketing_campaign.head(10)"
   ]
  },
  {
   "cell_type": "code",
   "execution_count": 16,
   "id": "f224cf27",
   "metadata": {},
   "outputs": [
    {
     "data": {
      "image/png": "[encoded data removed]",
      "text/plain": [
       "<Figure size 1000x600 with 2 Axes>"
      ]
     },
     "metadata": {},
     "output_type": "display_data"
    }
   ],
   "source": [
    "#imports \n",
    "import seaborn as sns\n",
    "#heatmap code\n",
    "#analyze customer behavior by age group\n",
    "marketing_campaign['Age'] = 2025 - marketing_campaign['Year_Birth'] #calculate age\n",
    "#make age bins\n",
    "marketing_campaign['Age_Group'] = pd.cut(marketing_campaign['Age'], bins = [18, 30, 40, 50, 60, 80], labels=['18-30', '31-40', '41-50', '51-60', '61+'])\n",
    "#combine amount spent across all categories to find total spend\n",
    "spend_cat = ['MntWines', 'MntFruits', 'MntMeatProducts', 'MntFishProducts', 'MntSweetProducts', 'MntGoldProds']\n",
    "marketing_campaign['Total_Spend'] = marketing_campaign[spend_cat].sum(axis=1)\n",
    "#group and aggregate spending\n",
    "age_spend = marketing_campaign.groupby('Age_Group', observed=True)[['Total_Spend']].mean()\n",
    "#heatmap code\n",
    "plt.figure(figsize=(10, 6))\n",
    "sns.heatmap(age_spend.T, cmap='YlOrRd')\n",
    "plt.title(\"Average Spending by Age Group\")\n",
    "plt.show()"
   ]
  },
  {
   "cell_type": "markdown",
   "id": "751c5fd0",
   "metadata": {},
   "source": [
    "blurb about findings"
   ]
  },
  {
   "cell_type": "code",
   "execution_count": 20,
   "id": "4f23f3ab",
   "metadata": {},
   "outputs": [
    {
     "data": {
      "image/png": "[encoded data removed]",
      "text/plain": [
       "<Figure size 1000x600 with 2 Axes>"
      ]
     },
     "metadata": {},
     "output_type": "display_data"
    }
   ],
   "source": [
    "#campaign response by education level\n",
    "campaign_cols = ['AcceptedCmp1', 'AcceptedCmp2', 'AcceptedCmp3', 'AcceptedCmp4', 'AcceptedCmp5']\n",
    "edu_response = marketing_campaign.groupby('Education', observed=True)[campaign_cols].mean()\n",
    "#plot\n",
    "plt.figure(figsize=(10, 6))\n",
    "sns.heatmap(edu_response.T, cmap='Oranges')\n",
    "plt.title(\"Campaign Acceptance by Education Lebel\")\n",
    "plt.show()"
   ]
  },
  {
   "cell_type": "markdown",
   "id": "5e853608",
   "metadata": {},
   "source": [
    "blurb about findings"
   ]
  },
  {
   "cell_type": "code",
   "execution_count": 33,
   "id": "62319907",
   "metadata": {},
   "outputs": [
    {
     "data": {
      "image/png": "[encoded data removed]",
      "text/plain": [
       "<Figure size 1000x600 with 2 Axes>"
      ]
     },
     "metadata": {},
     "output_type": "display_data"
    }
   ],
   "source": [
    "#response by recency heatmap\n",
    "#make bins w/groups for days since purchase\n",
    "marketing_campaign['Rec_Group'] = pd.cut(marketing_campaign['Recency'], bins = [0, 10, 20, 40, 60, 80, 100], labels=['0-10', '11-20', '21-40', '41-60', '61-80', '81+'])\n",
    "rec_response = marketing_campaign.groupby('Rec_Group', observed=True)[['Response']].mean()\n",
    "#plot\n",
    "plt.figure(figsize=(10,6))\n",
    "sns.heatmap(rec_response.T * 100, annot=True, cmap='OrRd')\n",
    "plt.title(\"Campaign Response Percentage by Purchase Recency\")\n",
    "plt.show()"
   ]
  },
  {
   "cell_type": "markdown",
   "id": "3eb3858d",
   "metadata": {},
   "source": [
    "blurb about findings"
   ]
  },
  {
   "cell_type": "markdown",
   "id": "95b29139",
   "metadata": {},
   "source": [
    "##### Bubble plots:"
   ]
  },
  {
   "cell_type": "code",
   "execution_count": null,
   "id": "ed9e6979",
   "metadata": {},
   "outputs": [],
   "source": [
    "#bubble plot codes"
   ]
  },
  {
   "cell_type": "markdown",
   "id": "9b1794e8",
   "metadata": {},
   "source": [
    "##### PCA:"
   ]
  },
  {
   "cell_type": "code",
   "execution_count": null,
   "id": "11c37918",
   "metadata": {},
   "outputs": [],
   "source": [
    "#pca code"
   ]
  },
  {
   "cell_type": "markdown",
   "id": "59d59f63",
   "metadata": {},
   "source": [
    "Answer: \n",
    "* The directions in which the data varies\n",
    "* Can you represent the data using only its projection onto its first principal component, using the methods described in Week 8?  How much of the variance would this capture?"
   ]
  },
  {
   "cell_type": "markdown",
   "id": "06f96ad0",
   "metadata": {},
   "source": [
    "##### Linear Regression: (using different sets of features)"
   ]
  },
  {
   "cell_type": "code",
   "execution_count": null,
   "id": "e4383e82",
   "metadata": {},
   "outputs": [],
   "source": []
  },
  {
   "cell_type": "markdown",
   "id": "94da877c",
   "metadata": {},
   "source": [
    "Answer:\n",
    "* Which features seem most likely to be useful to predict other features?\n",
    "\n",
    "##### Conclusions:\n",
    "* Are the data what you expect? Are the data likely to be usable? If the data are not useable, find some new data!\n",
    "\n",
    "* Do you see any outliers? (Data points that are far from the rest of the data).\n",
    "\n",
    "* Does the Principal Component Analysis suggest a way to represent the data using fewer dimensions than usual - using its first one or two principal component scores, perhaps?"
   ]
  },
  {
   "cell_type": "markdown",
   "id": "f093b6c5",
   "metadata": {},
   "source": [
    "#### Dataset 2:\n",
    "##### Heatmaps:"
   ]
  },
  {
   "cell_type": "code",
   "execution_count": null,
   "id": "da6ed3cc",
   "metadata": {},
   "outputs": [],
   "source": [
    "#heatmaps"
   ]
  },
  {
   "cell_type": "markdown",
   "id": "16cfc8d4",
   "metadata": {},
   "source": [
    "##### Bubble plots:"
   ]
  },
  {
   "cell_type": "code",
   "execution_count": null,
   "id": "e4960fed",
   "metadata": {},
   "outputs": [],
   "source": [
    "#bubble plots"
   ]
  },
  {
   "cell_type": "markdown",
   "id": "853d7857",
   "metadata": {},
   "source": [
    "##### PCA:"
   ]
  },
  {
   "cell_type": "code",
   "execution_count": null,
   "id": "d82a68c7",
   "metadata": {},
   "outputs": [],
   "source": [
    "#pca"
   ]
  },
  {
   "cell_type": "markdown",
   "id": "05af7b6e",
   "metadata": {},
   "source": [
    "Answer: \n",
    "* The directions in which the data varies\n",
    "* Can you represent the data using only its projection onto its first principal component, using the methods described in Week 8?  How much of the variance would this capture?"
   ]
  },
  {
   "cell_type": "markdown",
   "id": "4fe55bb9",
   "metadata": {},
   "source": [
    "##### Linear Regression: (using different sets of features)"
   ]
  },
  {
   "cell_type": "code",
   "execution_count": null,
   "id": "4e608d7a",
   "metadata": {},
   "outputs": [],
   "source": [
    "#lin reg"
   ]
  },
  {
   "cell_type": "markdown",
   "id": "b2fe9c55",
   "metadata": {},
   "source": [
    "Answer:\n",
    "* Which features seem most likely to be useful to predict other features?\n",
    "\n",
    "##### Conclusions:\n",
    "* Are the data what you expect? Are the data likely to be usable? If the data are not useable, find some new data!\n",
    "\n",
    "* Do you see any outliers? (Data points that are far from the rest of the data).\n",
    "\n",
    "* Does the Principal Component Analysis suggest a way to represent the data using fewer dimensions than usual - using its first one or two principal component scores, perhaps?"
   ]
  },
  {
   "cell_type": "markdown",
   "id": "480b39ba",
   "metadata": {},
   "source": [
    "#### Dataset 3:\n",
    "##### Heatmaps:"
   ]
  },
  {
   "cell_type": "code",
   "execution_count": null,
   "id": "1ebd9f77",
   "metadata": {},
   "outputs": [],
   "source": [
    "#heatmaps"
   ]
  },
  {
   "cell_type": "markdown",
   "id": "fb96cc51",
   "metadata": {},
   "source": [
    "##### Bubble plots:"
   ]
  },
  {
   "cell_type": "code",
   "execution_count": null,
   "id": "0b0cfd8f",
   "metadata": {},
   "outputs": [],
   "source": [
    "#bubble plots"
   ]
  },
  {
   "cell_type": "markdown",
   "id": "28ac717b",
   "metadata": {},
   "source": [
    "##### PCA:"
   ]
  },
  {
   "cell_type": "code",
   "execution_count": null,
   "id": "8e47a3ec",
   "metadata": {},
   "outputs": [],
   "source": [
    "#pca"
   ]
  },
  {
   "cell_type": "markdown",
   "id": "6ba3bda1",
   "metadata": {},
   "source": [
    "Answer: \n",
    "* The directions in which the data varies\n",
    "* Can you represent the data using only its projection onto its first principal component, using the methods described in Week 8?  How much of the variance would this capture?"
   ]
  },
  {
   "cell_type": "markdown",
   "id": "288d01dc",
   "metadata": {},
   "source": [
    "##### Linear Regression: (using different sets of features)"
   ]
  },
  {
   "cell_type": "code",
   "execution_count": null,
   "id": "b8720ba4",
   "metadata": {},
   "outputs": [],
   "source": [
    "#lin reg"
   ]
  },
  {
   "cell_type": "markdown",
   "id": "3aad0c23",
   "metadata": {},
   "source": [
    "Answer:\n",
    "* Which features seem most likely to be useful to predict other features?\n",
    "\n",
    "##### Conclusions:\n",
    "* Are the data what you expect? Are the data likely to be usable? If the data are not useable, find some new data!\n",
    "\n",
    "* Do you see any outliers? (Data points that are far from the rest of the data).\n",
    "\n",
    "* Does the Principal Component Analysis suggest a way to represent the data using fewer dimensions than usual - using its first one or two principal component scores, perhaps?"
   ]
  },
  {
   "cell_type": "markdown",
   "id": "6854d3de-7fda-440c-97e3-eaabd220575a",
   "metadata": {},
   "source": [
    "# 4. Storytelling With Data plot"
   ]
  },
  {
   "cell_type": "markdown",
   "id": "ddc311b7-25f7-4044-a601-ce42231337f6",
   "metadata": {},
   "source": [
    "Reproduce any graph of your choice in p. 136-150 of the Storytelling With Data book as best you can. (\"The power of super-categories\" to the end of chapter 5). You do not have to get the exact data values right, just the overall look and feel."
   ]
  },
  {
   "cell_type": "code",
   "execution_count": null,
   "id": "d9bcba9b-e9b3-45a9-ac76-4084b7cb3ab0",
   "metadata": {},
   "outputs": [],
   "source": []
  }
 ],
 "metadata": {
  "kernelspec": {
   "display_name": "Python 3",
   "language": "python",
   "name": "python3"
  },
  "language_info": {
   "codemirror_mode": {
    "name": "ipython",
    "version": 3
   },
   "file_extension": ".py",
   "mimetype": "text/x-python",
   "name": "python",
   "nbconvert_exporter": "python",
   "pygments_lexer": "ipython3",
   "version": "3.12.1"
  }
 },
 "nbformat": 4,
 "nbformat_minor": 5
}
